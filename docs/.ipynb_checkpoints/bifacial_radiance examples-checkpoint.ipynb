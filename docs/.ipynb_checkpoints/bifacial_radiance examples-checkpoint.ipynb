{
 "cells": [
  {
   "cell_type": "markdown",
   "metadata": {},
   "source": [
    "## bifacial_radiance examples\n",
    "what to do with the new bifacial_radiance python module\n",
    "\n",
    "### Prerequisites:\n",
    "This software requires the previous installation of RADIANCE from https://github.com/NREL/Radiance/releases\n",
    "\n",
    "If you are on a PC you should also install the Jaloxa radwinexe executables: http://www.jaloxa.eu/resources/radiance/radwinexe.shtml\n",
    "\n",
    "Gencumulativesky requires gencumulativesky.exe to be installed in your Radiance directory"
   ]
  },
  {
   "cell_type": "code",
   "execution_count": 1,
   "metadata": {},
   "outputs": [
    {
     "ename": "RuntimeError",
     "evalue": "bifacial_radiance is required. download distribution",
     "output_type": "error",
     "traceback": [
      "\u001b[0;31m---------------------------------------------------------------------------\u001b[0m",
      "\u001b[0;31mRuntimeError\u001b[0m                              Traceback (most recent call last)",
      "\u001b[0;32m<ipython-input-1-398e149cae8b>\u001b[0m in \u001b[0;36m<module>\u001b[0;34m()\u001b[0m\n\u001b[1;32m      2\u001b[0m     \u001b[0;32mfrom\u001b[0m \u001b[0mbifacial_radiance\u001b[0m \u001b[0;32mimport\u001b[0m \u001b[0;34m*\u001b[0m\u001b[0;34m\u001b[0m\u001b[0m\n\u001b[1;32m      3\u001b[0m \u001b[0;32mexcept\u001b[0m \u001b[0mImportError\u001b[0m\u001b[0;34m:\u001b[0m\u001b[0;34m\u001b[0m\u001b[0m\n\u001b[0;32m----> 4\u001b[0;31m     \u001b[0;32mraise\u001b[0m \u001b[0mRuntimeError\u001b[0m\u001b[0;34m(\u001b[0m\u001b[0;34m'bifacial_radiance is required. download distribution'\u001b[0m\u001b[0;34m)\u001b[0m\u001b[0;34m\u001b[0m\u001b[0m\n\u001b[0m",
      "\u001b[0;31mRuntimeError\u001b[0m: bifacial_radiance is required. download distribution"
     ]
    }
   ],
   "source": [
    "try:\n",
    "    from bifacial_radiance import *\n",
    "except ImportError:\n",
    "    raise RuntimeError('bifacial_radiance is required. download distribution')"
   ]
  },
  {
   "cell_type": "code",
   "execution_count": 2,
   "metadata": {},
   "outputs": [
    {
     "name": "stdout",
     "output_type": "stream",
     "text": [
      "path = C:\\Users\\cdeline\\Documents\\Python Scripts\\TestFolder\n",
      "Making path: images/\n",
      "Making path: objects/\n",
      "Making path: results/\n",
      "Making path: skies/\n",
      "Making path: materials/\n",
      "Getting weather file: USA_VA_Richmond.Intl.AP.724010_TMY.epw  ... OK!\n",
      "incorrect panel type selection\n",
      "created simple_panel.oct linescan in process: simple_panel_Front\n",
      "linescan in process: simple_panel_Back\n",
      "saved: results\\irr_simple_panel.csv\n",
      "Annual bifacial ratio: 0.089 - 0.131\n"
     ]
    }
   ],
   "source": [
    "# Simple example system using Radiance.\n",
    "testfolder = r'C:\\Users\\cdeline\\Documents\\Python Scripts\\TestFolder'  #point to an empty directory or existing Radiance directory\n",
    "demo = RadianceObj('simple_panel',testfolder)  # Create a RadianceObj 'object'\n",
    "demo.setGround(0.62) # input albedo number or material name like 'concrete'.  To see options, run this without any input.\n",
    "try:\n",
    "    epwfile = demo.getEPW(37.5,-77.6) #can't run this within NREL firewall. Otherwise, pull TMY data for any global lat/lon\n",
    "except:\n",
    "    pass\n",
    "    \n",
    "metdata = demo.readEPW('EPWs\\\\USA_VA_Richmond.Intl.AP.724010_TMY.epw') # read in the weather data\n",
    "# Now we either choose a single time point, or use cumulativesky for the entire year. \n",
    "demo.gendaylit(metdata,4020)  # Noon, June 17th\n",
    "#demo.genCumSky(demo.epwfile) # entire year.\n",
    "# create a scene using panels in landscape at 10 deg tilt, 1.5m pitch. 0.2 m ground clearance\n",
    "sceneDict = {'tilt':10,'pitch':1.5,'height':0.2,'orientation':'landscape'}  \n",
    "scene = demo.makeScene('simple_panel',sceneDict) #makeScene creates a .rad file with 10 modules per row, 3 rows.\n",
    "octfile = demo.makeOct(demo.getfilelist())  # makeOct combines all of the ground, sky and object files into a .oct file.\n",
    "analysis = AnalysisObj(octfile, demo.basename)  # return an analysis object including the scan dimensions for back irradiance\n",
    "analysis.analysis(octfile, demo.basename, scene.frontscan, scene.backscan)  # compare the back vs front irradiance  \n",
    "print('Annual bifacial ratio: %0.3f - %0.3f' %(min(analysis.backRatio), np.mean(analysis.backRatio)) )\n",
    "\n"
   ]
  },
  {
   "cell_type": "code",
   "execution_count": 3,
   "metadata": {},
   "outputs": [
    {
     "name": "stdout",
     "output_type": "stream",
     "text": [
      "generating visible render of scene\n",
      "generating scene in WM-2\n",
      "saving scene in false color\n"
     ]
    }
   ],
   "source": [
    "# Make a color render and falsecolor image of the scene\n",
    "analysis.makeImage('side.vp')\n",
    "analysis.makeFalseColor('side.vp')"
   ]
  },
  {
   "cell_type": "code",
   "execution_count": null,
   "metadata": {
    "collapsed": true
   },
   "outputs": [],
   "source": [
    "'''\n",
    "    demo = RadianceObj('G173gencumsky_3.0m')  \n",
    "    demo.setGround('litesoil')\n",
    "    metdata = demo.readEPW(r'USA_CO_Boulder.724699_TMY2.epw')\n",
    "    # sky data for index 4010 - 4028 (June 17)  \n",
    "    #demo.gendaylit(metdata,4020)\n",
    "    demo.genCumSky(r'USA_CO_Boulder.724699_TMY2.epw')\n",
    "    octfile = demo.makeOct(demo.filelist + ['objects\\\\monopanel_G173_ht_3.0.rad'])\n",
    "    analysis = AnalysisObj(octfile, demo.basename)\n",
    "    analysis.G173analysis(octfile, demo.basename)\n",
    "    \n",
    "    demo2 = RadianceObj('G173gendaylit_3.0m')  \n",
    "    demo2.setGround('litesoil')\n",
    "    metdata = demo2.readEPW(r'USA_CO_Boulder.724699_TMY2.epw')\n",
    "    # sky data for index 4010 - 4028 (June 17)  \n",
    "    demo2.gendaylit(metdata,4020)\n",
    "    #demo.genCumSky(r'USA_CO_Boulder.724699_TMY2.epw')\n",
    "    octfile = demo2.makeOct(demo.filelist + ['objects\\\\monopanel_G173_ht_3.0.rad'])\n",
    "    analysis2 = AnalysisObj(octfile, demo2.basename)\n",
    "    analysis2.G173analysis(octfile, demo2.basename)\n",
    "\n",
    "    pvscdemo = RadianceObj('PVSC_gencumsky')  \n",
    "    pvscdemo.setGround('litesoil')\n",
    "    epwfile = pvscdemo.getEPW(40,-105)\n",
    "    metdata = pvscdemo.readEPW(epwfile)\n",
    "    # sky data for index 4010 - 4028 (June 17)  \n",
    "    #demo.gendaylit(metdata,4020)\n",
    "    start = datetime.datetime(2000,6,17,12)\n",
    "    end = datetime.datetime(2000,6,17,13)\n",
    "    pvscdemo.genCumSky(r'USA_CO_Boulder.724699_TMY2.epw', start, end)\n",
    "    octfile = pvscdemo.makeOct(pvscdemo.filelist + ['objects\\\\PVSC_4array.rad'])\n",
    "    pvscdemo.analysis(octfile, pvscdemo.basename)\n",
    "\n",
    "    pvscdemo = RadianceObj('PVSC_gendaylit')  \n",
    "    pvscdemo.setGround('litesoil')\n",
    "    metdata = pvscdemo.readEPW(r'USA_CO_Boulder.724699_TMY2.epw')\n",
    "    # sky data for index 4010 - 4028 (June 17)  \n",
    "    pvscdemo.gendaylit(metdata,4020)\n",
    "    #pvscdemo.genCumSky(r'USA_CO_Boulder.724699_TMY2.epw',datetime.datetime(2000,6,17,0), datetime.datetime(2000,6,17,23))\n",
    "    octfile = pvscdemo.makeOct(pvscdemo.filelist + ['objects\\\\PVSC_4array.rad'])\n",
    "    analysis = pvscdemo.analysis(octfile, pvscdemo.basename)\n",
    "    analysis.makeImage('PVSCfront.vp')\n",
    "    '''"
   ]
  }
 ],
 "metadata": {
  "anaconda-cloud": {},
  "kernelspec": {
   "display_name": "Python 2",
   "language": "python",
   "name": "python2"
  }
 },
 "nbformat": 4,
 "nbformat_minor": 1
}
